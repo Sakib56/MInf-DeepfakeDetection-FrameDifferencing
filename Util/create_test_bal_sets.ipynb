{
 "cells": [
  {
   "cell_type": "code",
   "execution_count": 214,
   "id": "general-bishop",
   "metadata": {},
   "outputs": [],
   "source": [
    "import os\n",
    "import shutil\n",
    "import random"
   ]
  },
  {
   "cell_type": "code",
   "execution_count": 215,
   "id": "included-tongue",
   "metadata": {},
   "outputs": [],
   "source": [
    "def make_dir(path):\n",
    "    try:\n",
    "        os.mkdir(path)\n",
    "    except OSError:\n",
    "        print (f'\"{path}\" Failed')\n",
    "    else:\n",
    "        print (f'\"{path}\" Created')"
   ]
  },
  {
   "cell_type": "code",
   "execution_count": 216,
   "id": "unexpected-checklist",
   "metadata": {},
   "outputs": [],
   "source": [
    "def make_test_set(df_type):\n",
    "    source_dir = f'./Celeb-DF-v2/Celeb-{df_type}'\n",
    "    source_real_dir = f'{source_dir}/Celeb-real'\n",
    "    source_fake_dir = f'{source_dir}/Celeb-synthesis'\n",
    "    \n",
    "    dest_folder_name = f'Celeb-{df_type}-test'\n",
    "    dest_dir = f'./Celeb-DF-v2/{dest_folder_name}'\n",
    "    dest_real_dir = f'{dest_dir}/Celeb-real'\n",
    "    dest_fake_dir = f'{dest_dir}/Celeb-synthesis'\n",
    "\n",
    "    make_dir(dest_dir)\n",
    "    make_dir(dest_real_dir)\n",
    "    make_dir(dest_fake_dir)\n",
    "    \n",
    "    videos_in_real_source = set(os.listdir(source_real_dir)) #61 ids\n",
    "    videos_in_fake_source = set(os.listdir(source_fake_dir)) #61 ids\n",
    "\n",
    "\n",
    "    test_train_split = 0.3\n",
    "    n = int(62 * test_train_split)\n",
    "    actors_idz = range(0, n)\n",
    "\n",
    "    real_extracted_actors = set()\n",
    "    fake_extracted_actors = set()\n",
    "\n",
    "    for id_number in actors_idz:\n",
    "        for real_video in videos_in_real_source:\n",
    "            actor_id = f'id{id_number}_'\n",
    "            if actor_id in real_video:\n",
    "                real_extracted_actors.add(real_video)\n",
    "\n",
    "        for fake_video in videos_in_fake_source:\n",
    "            actor_id = f'id{id_number}_i'\n",
    "            if actor_id in fake_video:\n",
    "                fake_extracted_actors.add(fake_video)\n",
    "\n",
    "    real_unextracted_actors = videos_in_real_source - real_extracted_actors\n",
    "    fake_unextracted_actors = videos_in_fake_source - fake_extracted_actors\n",
    "    \n",
    "    # creating test set\n",
    "    for real_actor in real_extracted_actors:\n",
    "        test_video = f'{source_real_dir}/{real_actor}'\n",
    "        if real_actor not in os.listdir(dest_real_dir):\n",
    "            shutil.move(test_video, dest_real_dir)\n",
    "\n",
    "    for fake_actor in fake_extracted_actors:\n",
    "        test_video = f'{source_fake_dir}/{fake_actor}'\n",
    "        if fake_actor not in os.listdir(dest_fake_dir):\n",
    "            shutil.move(test_video, dest_fake_dir)"
   ]
  },
  {
   "cell_type": "code",
   "execution_count": 217,
   "id": "united-relevance",
   "metadata": {},
   "outputs": [
    {
     "name": "stdout",
     "output_type": "stream",
     "text": [
      "\"./Celeb-DF-v2/Celeb-rnd-test\" Created\n",
      "\"./Celeb-DF-v2/Celeb-rnd-test/Celeb-real\" Created\n",
      "\"./Celeb-DF-v2/Celeb-rnd-test/Celeb-synthesis\" Created\n",
      "\"./Celeb-DF-v2/Celeb-diff-test\" Created\n",
      "\"./Celeb-DF-v2/Celeb-diff-test/Celeb-real\" Created\n",
      "\"./Celeb-DF-v2/Celeb-diff-test/Celeb-synthesis\" Created\n",
      "\"./Celeb-DF-v2/Celeb-avg-test\" Created\n",
      "\"./Celeb-DF-v2/Celeb-avg-test/Celeb-real\" Created\n",
      "\"./Celeb-DF-v2/Celeb-avg-test/Celeb-synthesis\" Created\n"
     ]
    }
   ],
   "source": [
    "for df in ['rnd', 'diff', 'avg']:\n",
    "    make_test_set(df_type=df)"
   ]
  },
  {
   "cell_type": "code",
   "execution_count": 222,
   "id": "widespread-helen",
   "metadata": {},
   "outputs": [],
   "source": [
    "!mkdir ./Celeb-DF-v2/Celeb-rnd-bal\n",
    "!cp -r ./Celeb-DF-v2/Celeb-rnd/* ./Celeb-DF-v2/Celeb-rnd-bal/\n",
    "\n",
    "!mkdir ./Celeb-DF-v2/Celeb-diff-bal\n",
    "!cp -r ./Celeb-DF-v2/Celeb-diff/* ./Celeb-DF-v2/Celeb-diff-bal/\n",
    "\n",
    "!mkdir ./Celeb-DF-v2/Celeb-avg-bal\n",
    "!cp -r ./Celeb-DF-v2/Celeb-avg/* ./Celeb-DF-v2/Celeb-avg-bal/"
   ]
  },
  {
   "cell_type": "code",
   "execution_count": null,
   "id": "devoted-healing",
   "metadata": {},
   "outputs": [
    {
     "name": "stdout",
     "output_type": "stream",
     "text": [
      "422 422\n",
      "422 422\n"
     ]
    }
   ],
   "source": [
    "seed = 0\n",
    "for df in ['rnd', 'diff', 'avg']:\n",
    "    balance_dir = f'./Celeb-DF-v2/Celeb-{df}-bal'\n",
    "    balance_real_dir = f'{balance_dir}/Celeb-real'\n",
    "    balance_fake_dir = f'{balance_dir}/Celeb-synthesis'\n",
    "\n",
    "    # os.listdir(balance_real_dir)\n",
    "    videos_in_real_bal = os.listdir(balance_real_dir)\n",
    "    videos_in_fake_bal = os.listdir(balance_fake_dir)\n",
    "    \n",
    "    random.Random(seed).shuffle(videos_in_fake_bal)\n",
    "\n",
    "    for fake_video in videos_in_fake_bal[len(videos_in_real_bal):]:\n",
    "        os.remove(f'{balance_fake_dir}/{fake_video}')\n",
    "        \n",
    "    print(len(os.listdir(balance_real_dir)), len(os.listdir(balance_fake_dir)))"
   ]
  },
  {
   "cell_type": "code",
   "execution_count": null,
   "id": "activated-cause",
   "metadata": {},
   "outputs": [],
   "source": []
  }
 ],
 "metadata": {
  "kernelspec": {
   "display_name": "Python 3",
   "language": "python",
   "name": "python3"
  },
  "language_info": {
   "codemirror_mode": {
    "name": "ipython",
    "version": 3
   },
   "file_extension": ".py",
   "mimetype": "text/x-python",
   "name": "python",
   "nbconvert_exporter": "python",
   "pygments_lexer": "ipython3",
   "version": "3.8.6"
  }
 },
 "nbformat": 4,
 "nbformat_minor": 5
}
