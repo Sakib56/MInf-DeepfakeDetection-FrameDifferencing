{
 "cells": [
  {
   "cell_type": "code",
   "execution_count": 2,
   "id": "VL9AYp9_EVTg",
   "metadata": {
    "colab": {
     "base_uri": "https://localhost:8080/"
    },
    "executionInfo": {
     "elapsed": 507,
     "status": "ok",
     "timestamp": 1615311589717,
     "user": {
      "displayName": "Sakib Ahamed",
      "photoUrl": "https://lh3.googleusercontent.com/a-/AOh14Ghux0A3tJ8ak2hXsUY0-OJKE1g54h6Vq61r4o_n9GY=s64",
      "userId": "01642899865297704166"
     },
     "user_tz": 0
    },
    "id": "VL9AYp9_EVTg",
    "outputId": "80791b43-1b4c-47da-f025-4e318b40209f"
   },
   "outputs": [
    {
     "name": "stdout",
     "output_type": "stream",
     "text": [
      "/mnt/c/Users/rapto/Google Drive/Colab Notebooks/MInf-DeepfakeDetection-FrameDifferencing\n"
     ]
    }
   ],
   "source": [
    "# For Google Colab use\n",
    "\n",
    "try:\n",
    "    from google.colab import drive\n",
    "    drive.mount('/content/drive', force_remount=True)\n",
    "    %cd '/content/drive/MyDrive/Colab Notebooks/DeepFake Detector'    \n",
    "except ModuleNotFoundError:\n",
    "    %cd '..'"
   ]
  },
  {
   "cell_type": "code",
   "execution_count": 3,
   "id": "fewer-mileage",
   "metadata": {
    "id": "fewer-mileage"
   },
   "outputs": [],
   "source": [
    "# !pip install face_recognition\n",
    "import os\n",
    "from tqdm import tqdm\n",
    "from PIL import Image\n",
    "from heapq import nsmallest\n",
    "from math import ceil\n",
    "from time import time\n",
    "from random import randint, seed\n",
    "from pipeline import *\n",
    "seed(0)"
   ]
  },
  {
   "cell_type": "code",
   "execution_count": 4,
   "id": "explicit-locking",
   "metadata": {
    "colab": {
     "base_uri": "https://localhost:8080/"
    },
    "executionInfo": {
     "elapsed": 35707,
     "status": "ok",
     "timestamp": 1615206057638,
     "user": {
      "displayName": "Sakib Ahamed",
      "photoUrl": "https://lh3.googleusercontent.com/a-/AOh14Ghux0A3tJ8ak2hXsUY0-OJKE1g54h6Vq61r4o_n9GY=s64",
      "userId": "01642899865297704166"
     },
     "user_tz": 0
    },
    "id": "explicit-locking",
    "outputId": "3cc3eb80-2de5-44cf-e391-48e2c88fa644"
   },
   "outputs": [],
   "source": [
    "root_datasets_path = './Celeb-DF-v2'"
   ]
  },
  {
   "cell_type": "code",
   "execution_count": 9,
   "id": "addressed-cooking",
   "metadata": {
    "id": "addressed-cooking"
   },
   "outputs": [],
   "source": [
    "real_video_dir_path = f'{root_datasets_path}/Celeb-videos/Celeb-real'\n",
    "fake_video_dir_path = f'{root_datasets_path}/Celeb-videos/Celeb-synthesis'\n",
    "powerpoint_face_dir = './Util/powerpoint_faces'"
   ]
  },
  {
   "cell_type": "code",
   "execution_count": 17,
   "id": "spatial-frequency",
   "metadata": {
    "id": "spatial-frequency"
   },
   "outputs": [],
   "source": [
    "video_dir_path = real_video_dir_path\n",
    "class_name = video_dir_path.split('-')[-1]"
   ]
  },
  {
   "cell_type": "code",
   "execution_count": 19,
   "id": "moral-conjunction",
   "metadata": {},
   "outputs": [
    {
     "data": {
      "text/plain": [
       "'./Celeb-DF-v2/Celeb-videos/Celeb-real'"
      ]
     },
     "execution_count": 19,
     "metadata": {},
     "output_type": "execute_result"
    }
   ],
   "source": []
  },
  {
   "cell_type": "code",
   "execution_count": 18,
   "id": "excess-church",
   "metadata": {
    "scrolled": true
   },
   "outputs": [
    {
     "ename": "FileNotFoundError",
     "evalue": "[Errno 2] No such file or directory: './Celeb-DF-v2/Celeb-videos/Celeb-real'",
     "output_type": "error",
     "traceback": [
      "\u001b[0;31m---------------------------------------------------------------------------\u001b[0m",
      "\u001b[0;31mFileNotFoundError\u001b[0m                         Traceback (most recent call last)",
      "\u001b[0;32m<ipython-input-18-e1e9e4ad644a>\u001b[0m in \u001b[0;36m<module>\u001b[0;34m\u001b[0m\n\u001b[0;32m----> 1\u001b[0;31m \u001b[0mvideo_name\u001b[0m \u001b[0;34m=\u001b[0m \u001b[0mos\u001b[0m\u001b[0;34m.\u001b[0m\u001b[0mlistdir\u001b[0m\u001b[0;34m(\u001b[0m\u001b[0mvideo_dir_path\u001b[0m\u001b[0;34m)\u001b[0m\u001b[0;34m[\u001b[0m\u001b[0;36m17\u001b[0m\u001b[0;34m]\u001b[0m\u001b[0;34m\u001b[0m\u001b[0;34m\u001b[0m\u001b[0m\n\u001b[0m",
      "\u001b[0;31mFileNotFoundError\u001b[0m: [Errno 2] No such file or directory: './Celeb-DF-v2/Celeb-videos/Celeb-real'"
     ]
    }
   ],
   "source": [
    "video_name = os.listdir(video_dir_path)[17]"
   ]
  },
  {
   "cell_type": "code",
   "execution_count": 16,
   "id": "received-applicant",
   "metadata": {},
   "outputs": [
    {
     "ename": "NameError",
     "evalue": "name 'video_name' is not defined",
     "output_type": "error",
     "traceback": [
      "\u001b[0;31m---------------------------------------------------------------------------\u001b[0m",
      "\u001b[0;31mNameError\u001b[0m                                 Traceback (most recent call last)",
      "\u001b[0;32m<ipython-input-16-ec3f3938734f>\u001b[0m in \u001b[0;36m<module>\u001b[0;34m\u001b[0m\n\u001b[0;32m----> 1\u001b[0;31m \u001b[0mvideo\u001b[0m \u001b[0;34m=\u001b[0m \u001b[0mos\u001b[0m\u001b[0;34m.\u001b[0m\u001b[0mpath\u001b[0m\u001b[0;34m.\u001b[0m\u001b[0mjoin\u001b[0m\u001b[0;34m(\u001b[0m\u001b[0mvideo_dir_path\u001b[0m\u001b[0;34m,\u001b[0m \u001b[0mvideo_name\u001b[0m\u001b[0;34m)\u001b[0m\u001b[0;34m\u001b[0m\u001b[0;34m\u001b[0m\u001b[0m\n\u001b[0m",
      "\u001b[0;31mNameError\u001b[0m: name 'video_name' is not defined"
     ]
    }
   ],
   "source": [
    "video = os.path.join(video_dir_path, video_name)"
   ]
  },
  {
   "cell_type": "code",
   "execution_count": null,
   "id": "consistent-rugby",
   "metadata": {
    "id": "consistent-rugby"
   },
   "outputs": [],
   "source": [
    "# for video_name in tqdm(os.listdir(video_dir_path)[::-1][251:]):#[1360+1434+1435+191+15+300:]):\n",
    "#     try:\n",
    "#         video = os.path.join(video_dir_path, video_name)\n",
    "#         video_name = video_name.replace('.mp4', '')\n",
    "#         frames = get_every_frame(video, interval=1)\n",
    "\n",
    "#         face_coordinates = get_face_locations(frames, GPU=True, batch_size=85)\n",
    "#         centroid = get_centroid(face_coordinates)\n",
    "#         dist_from_centroid = get_distance_from_centroid(centroid, face_coordinates)\n",
    "\n",
    "#         movement_thershold = sorted(set([d for d in dist_from_centroid if d is not None]))[-1]\n",
    "#         zoomed_stable_faces = get_stable_faces(movement_thershold,\n",
    "#                                             dist_from_centroid,\n",
    "#                                             face_coordinates,\n",
    "#                                             frames,\n",
    "#                                             zoomed=True)\n",
    "        \n",
    "#         # Create imgs for train-val set\n",
    "#         if not any([1 if actor_id in video_name else 0 for actor_id in test_actor_ids]):\n",
    "#             for i, sub_avg in enumerate(sub_average(frames, face_coordinates, interval=8)):\n",
    "#                 Image.fromarray(sub_avg, mode='RGB').save(\n",
    "#                     f'{root_datasets_path}/Celeb-avg/Celeb-{class_name}/{video_name}_{i}.png','PNG')\n",
    "\n",
    "#             for i, sub_diff in enumerate(sub_difference(frames, face_coordinates, interval=8)):\n",
    "#                 Image.fromarray(sub_diff, mode='RGB').save(\n",
    "#                     f'{root_datasets_path}/Celeb-diff/Celeb-{class_name}/{video_name}_{i}.png','PNG')\n",
    "\n",
    "#             for i, frame in enumerate(zoomed_stable_faces):\n",
    "#                 Image.fromarray(frame, mode='RGB').save(\n",
    "#                     f'{root_datasets_path}/Celeb-frames/Celeb-{class_name}/{video_name}_{i}.png','PNG')\n",
    "        \n",
    "        \n",
    "#         # Create imgs for test set     \n",
    "#         else:\n",
    "#             for i, sub_avg in enumerate(sub_average(frames, face_coordinates, interval=8)):\n",
    "#                 Image.fromarray(sub_avg, mode='RGB').save(\n",
    "#                     f'{root_datasets_path}/Celeb-avg-test/Celeb-{class_name}/{video_name}_{i}.png','PNG')\n",
    "\n",
    "#             for i, sub_diff in enumerate(sub_difference(frames, face_coordinates, interval=8)):\n",
    "#                 Image.fromarray(sub_diff, mode='RGB').save(\n",
    "#                     f'{root_datasets_path}/Celeb-diff-test/Celeb-{class_name}/{video_name}_{i}.png','PNG')\n",
    "\n",
    "#             for i, frame in enumerate(zoomed_stable_faces):\n",
    "#                 Image.fromarray(frame, mode='RGB').save(\n",
    "#                     f'{root_datasets_path}/Celeb-frames-test/Celeb-{class_name}/{video_name}_{i}.png','PNG')\n",
    "#     except OSError:\n",
    "#         pass"
   ]
  },
  {
   "cell_type": "code",
   "execution_count": null,
   "id": "Sb0yK8Maw5d7",
   "metadata": {
    "colab": {
     "base_uri": "https://localhost:8080/",
     "height": 35
    },
    "executionInfo": {
     "elapsed": 35726,
     "status": "ok",
     "timestamp": 1615206057711,
     "user": {
      "displayName": "Sakib Ahamed",
      "photoUrl": "https://lh3.googleusercontent.com/a-/AOh14Ghux0A3tJ8ak2hXsUY0-OJKE1g54h6Vq61r4o_n9GY=s64",
      "userId": "01642899865297704166"
     },
     "user_tz": 0
    },
    "id": "Sb0yK8Maw5d7",
    "outputId": "41fed398-1e78-4209-e858-72c9ea71216e"
   },
   "outputs": [
    {
     "data": {
      "application/vnd.google.colaboratory.intrinsic+json": {
       "type": "string"
      },
      "text/plain": [
       "'./Celeb-DF-v2/Celeb-videos/Celeb-synthesis'"
      ]
     },
     "execution_count": 10,
     "metadata": {
      "tags": []
     },
     "output_type": "execute_result"
    }
   ],
   "source": [
    "\n",
    "video_dir_path"
   ]
  },
  {
   "cell_type": "code",
   "execution_count": null,
   "id": "mmrf-m63w_5F",
   "metadata": {
    "colab": {
     "base_uri": "https://localhost:8080/"
    },
    "executionInfo": {
     "elapsed": 400,
     "status": "ok",
     "timestamp": 1615206074997,
     "user": {
      "displayName": "Sakib Ahamed",
      "photoUrl": "https://lh3.googleusercontent.com/a-/AOh14Ghux0A3tJ8ak2hXsUY0-OJKE1g54h6Vq61r4o_n9GY=s64",
      "userId": "01642899865297704166"
     },
     "user_tz": 0
    },
    "id": "mmrf-m63w_5F",
    "outputId": "6a0612a5-b79a-4b45-869b-4f5c20ea57f9"
   },
   "outputs": [
    {
     "data": {
      "text/plain": [
       "[]"
      ]
     },
     "execution_count": 12,
     "metadata": {
      "tags": []
     },
     "output_type": "execute_result"
    }
   ],
   "source": [
    "os.listdir('./Celeb-DF-v2/Celeb-diff/Celeb-real')"
   ]
  },
  {
   "cell_type": "code",
   "execution_count": null,
   "id": "kYilNI58mcNu",
   "metadata": {
    "id": "kYilNI58mcNu"
   },
   "outputs": [],
   "source": []
  },
  {
   "cell_type": "code",
   "execution_count": null,
   "id": "ck5LhG0Fq4TD",
   "metadata": {
    "id": "ck5LhG0Fq4TD"
   },
   "outputs": [],
   "source": []
  }
 ],
 "metadata": {
  "colab": {
   "collapsed_sections": [],
   "name": "preprocessing_pipeline.ipynb",
   "provenance": []
  },
  "kernelspec": {
   "display_name": "Python 3",
   "language": "python",
   "name": "python3"
  },
  "language_info": {
   "codemirror_mode": {
    "name": "ipython",
    "version": 3
   },
   "file_extension": ".py",
   "mimetype": "text/x-python",
   "name": "python",
   "nbconvert_exporter": "python",
   "pygments_lexer": "ipython3",
   "version": "3.8.6"
  }
 },
 "nbformat": 4,
 "nbformat_minor": 5
}
